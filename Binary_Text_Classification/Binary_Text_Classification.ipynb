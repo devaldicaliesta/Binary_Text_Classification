{
  "nbformat": 4,
  "nbformat_minor": 0,
  "metadata": {
    "colab": {
      "name": "Binary Text Classification.ipynb",
      "provenance": []
    },
    "kernelspec": {
      "name": "python3",
      "display_name": "Python 3"
    },
    "language_info": {
      "name": "python"
    }
  },
  "cells": [
    {
      "cell_type": "markdown",
      "metadata": {
        "id": "_-48eBTMFUpC"
      },
      "source": [
        "Binary Text Classification"
      ]
    },
    {
      "cell_type": "code",
      "metadata": {
        "id": "RfuWVrEPFWPw"
      },
      "source": [
        "import pandas as pd\n",
        "df = pd.read_csv('yelp_labelled.txt', names=['sentence', 'label'], sep='\\t')"
      ],
      "execution_count": null,
      "outputs": []
    },
    {
      "cell_type": "code",
      "metadata": {
        "colab": {
          "base_uri": "https://localhost:8080/",
          "height": 206
        },
        "id": "yzzrFAWWFcma",
        "outputId": "8bb4cc40-2c10-47a8-8ab4-c79afd6dced3"
      },
      "source": [
        "#melihat 5 sampel terakhir dari dataset kita, panggil fungsi tail().\n",
        "df.tail()"
      ],
      "execution_count": null,
      "outputs": [
        {
          "output_type": "execute_result",
          "data": {
            "text/html": [
              "<div>\n",
              "<style scoped>\n",
              "    .dataframe tbody tr th:only-of-type {\n",
              "        vertical-align: middle;\n",
              "    }\n",
              "\n",
              "    .dataframe tbody tr th {\n",
              "        vertical-align: top;\n",
              "    }\n",
              "\n",
              "    .dataframe thead th {\n",
              "        text-align: right;\n",
              "    }\n",
              "</style>\n",
              "<table border=\"1\" class=\"dataframe\">\n",
              "  <thead>\n",
              "    <tr style=\"text-align: right;\">\n",
              "      <th></th>\n",
              "      <th>sentence</th>\n",
              "      <th>label</th>\n",
              "    </tr>\n",
              "  </thead>\n",
              "  <tbody>\n",
              "    <tr>\n",
              "      <th>995</th>\n",
              "      <td>I think food should have flavor and texture an...</td>\n",
              "      <td>0</td>\n",
              "    </tr>\n",
              "    <tr>\n",
              "      <th>996</th>\n",
              "      <td>Appetite instantly gone.</td>\n",
              "      <td>0</td>\n",
              "    </tr>\n",
              "    <tr>\n",
              "      <th>997</th>\n",
              "      <td>Overall I was not impressed and would not go b...</td>\n",
              "      <td>0</td>\n",
              "    </tr>\n",
              "    <tr>\n",
              "      <th>998</th>\n",
              "      <td>The whole experience was underwhelming, and I ...</td>\n",
              "      <td>0</td>\n",
              "    </tr>\n",
              "    <tr>\n",
              "      <th>999</th>\n",
              "      <td>Then, as if I hadn't wasted enough of my life ...</td>\n",
              "      <td>0</td>\n",
              "    </tr>\n",
              "  </tbody>\n",
              "</table>\n",
              "</div>"
            ],
            "text/plain": [
              "                                              sentence  label\n",
              "995  I think food should have flavor and texture an...      0\n",
              "996                           Appetite instantly gone.      0\n",
              "997  Overall I was not impressed and would not go b...      0\n",
              "998  The whole experience was underwhelming, and I ...      0\n",
              "999  Then, as if I hadn't wasted enough of my life ...      0"
            ]
          },
          "metadata": {},
          "execution_count": 2
        }
      ]
    },
    {
      "cell_type": "code",
      "metadata": {
        "id": "oAWBO8yIFvv4"
      },
      "source": [
        "#Setelah itu kita bagi dataset menjadi train dan test set.\n",
        "from sklearn.model_selection import train_test_split\n",
        "kalimat = df['sentence'].values\n",
        "y = df['label'].values\n",
        "kalimat_latih, kalimat_test, y_latih, y_test = train_test_split(kalimat, y, test_size=0.2)"
      ],
      "execution_count": null,
      "outputs": []
    },
    {
      "cell_type": "code",
      "metadata": {
        "id": "spudznVzF8mU"
      },
      "source": [
        "#lakukan tokenisasi. Gunakan fungsi tokenizer pada data latih dan data test. \n",
        "#Jangan lupa gunakan fungsi pad_sequences agar setiap sequence sama panjang.\n",
        "from tensorflow.keras.preprocessing.text import Tokenizer\n",
        "from tensorflow.keras.preprocessing.sequence import pad_sequences\n",
        " \n",
        "tokenizer = Tokenizer(num_words=250, oov_token='x')\n",
        "tokenizer.fit_on_texts(kalimat_latih) \n",
        "tokenizer.fit_on_texts(kalimat_test)\n",
        " \n",
        "sekuens_latih = tokenizer.texts_to_sequences(kalimat_latih)\n",
        "sekuens_test = tokenizer.texts_to_sequences(kalimat_test)\n",
        " \n",
        "padded_latih = pad_sequences(sekuens_latih) \n",
        "padded_test = pad_sequences(sekuens_test)"
      ],
      "execution_count": null,
      "outputs": []
    },
    {
      "cell_type": "code",
      "metadata": {
        "id": "C4vJWNvSGHPP"
      },
      "source": [
        "#arsitektur yang akan digunakan adalah layer embedding, dengan argumen pertama \n",
        "#sesuai dengan jumlah vocabulary/kata yang kita pakai pada tokenizer.\n",
        "import tensorflow as tf\n",
        "model = tf.keras.Sequential([\n",
        "    tf.keras.layers.Embedding(250, 16, input_length=20),\n",
        "    tf.keras.layers.GlobalAveragePooling1D(),\n",
        "    tf.keras.layers.Dense(24, activation='relu'),\n",
        "    tf.keras.layers.Dense(1, activation='sigmoid')\n",
        "])\n",
        "model.compile(loss='binary_crossentropy',optimizer='adam',metrics=['accuracy'])"
      ],
      "execution_count": null,
      "outputs": []
    },
    {
      "cell_type": "code",
      "metadata": {
        "colab": {
          "base_uri": "https://localhost:8080/"
        },
        "id": "PCCw4zBXG5m3",
        "outputId": "f9c5b71b-656d-43fe-c79e-1d992e29d640"
      },
      "source": [
        "num_epochs = 30\n",
        "history = model.fit(padded_latih, y_latih, epochs=num_epochs, \n",
        "                    validation_data=(padded_test, y_test), verbose=2)"
      ],
      "execution_count": null,
      "outputs": [
        {
          "output_type": "stream",
          "name": "stdout",
          "text": [
            "Epoch 1/30\n",
            "WARNING:tensorflow:Model was constructed with shape (None, 20) for input KerasTensor(type_spec=TensorSpec(shape=(None, 20), dtype=tf.float32, name='embedding_input'), name='embedding_input', description=\"created by layer 'embedding_input'\"), but it was called on an input with incompatible shape (32, 31).\n",
            "WARNING:tensorflow:Model was constructed with shape (None, 20) for input KerasTensor(type_spec=TensorSpec(shape=(None, 20), dtype=tf.float32, name='embedding_input'), name='embedding_input', description=\"created by layer 'embedding_input'\"), but it was called on an input with incompatible shape (32, 31).\n",
            "WARNING:tensorflow:Model was constructed with shape (None, 20) for input KerasTensor(type_spec=TensorSpec(shape=(None, 20), dtype=tf.float32, name='embedding_input'), name='embedding_input', description=\"created by layer 'embedding_input'\"), but it was called on an input with incompatible shape (None, 32).\n",
            "25/25 - 1s - loss: 0.6929 - accuracy: 0.4913 - val_loss: 0.6909 - val_accuracy: 0.6850\n",
            "Epoch 2/30\n",
            "25/25 - 0s - loss: 0.6909 - accuracy: 0.5663 - val_loss: 0.6904 - val_accuracy: 0.5100\n",
            "Epoch 3/30\n",
            "25/25 - 0s - loss: 0.6881 - accuracy: 0.6413 - val_loss: 0.6859 - val_accuracy: 0.7050\n",
            "Epoch 4/30\n",
            "25/25 - 0s - loss: 0.6838 - accuracy: 0.6862 - val_loss: 0.6815 - val_accuracy: 0.7000\n",
            "Epoch 5/30\n",
            "25/25 - 0s - loss: 0.6773 - accuracy: 0.7013 - val_loss: 0.6750 - val_accuracy: 0.7000\n",
            "Epoch 6/30\n",
            "25/25 - 0s - loss: 0.6678 - accuracy: 0.7200 - val_loss: 0.6630 - val_accuracy: 0.7300\n",
            "Epoch 7/30\n",
            "25/25 - 0s - loss: 0.6537 - accuracy: 0.7287 - val_loss: 0.6545 - val_accuracy: 0.7450\n",
            "Epoch 8/30\n",
            "25/25 - 0s - loss: 0.6364 - accuracy: 0.7500 - val_loss: 0.6427 - val_accuracy: 0.7400\n",
            "Epoch 9/30\n",
            "25/25 - 0s - loss: 0.6110 - accuracy: 0.7613 - val_loss: 0.6173 - val_accuracy: 0.7250\n",
            "Epoch 10/30\n",
            "25/25 - 0s - loss: 0.5841 - accuracy: 0.7825 - val_loss: 0.6050 - val_accuracy: 0.7450\n",
            "Epoch 11/30\n",
            "25/25 - 0s - loss: 0.5570 - accuracy: 0.8062 - val_loss: 0.5837 - val_accuracy: 0.7500\n",
            "Epoch 12/30\n",
            "25/25 - 0s - loss: 0.5266 - accuracy: 0.8150 - val_loss: 0.5596 - val_accuracy: 0.7600\n",
            "Epoch 13/30\n",
            "25/25 - 0s - loss: 0.5002 - accuracy: 0.8112 - val_loss: 0.5530 - val_accuracy: 0.7600\n",
            "Epoch 14/30\n",
            "25/25 - 0s - loss: 0.4709 - accuracy: 0.8275 - val_loss: 0.5410 - val_accuracy: 0.7600\n",
            "Epoch 15/30\n",
            "25/25 - 0s - loss: 0.4475 - accuracy: 0.8325 - val_loss: 0.5290 - val_accuracy: 0.7600\n",
            "Epoch 16/30\n",
            "25/25 - 0s - loss: 0.4261 - accuracy: 0.8462 - val_loss: 0.5089 - val_accuracy: 0.7650\n",
            "Epoch 17/30\n",
            "25/25 - 0s - loss: 0.4050 - accuracy: 0.8388 - val_loss: 0.4990 - val_accuracy: 0.7750\n",
            "Epoch 18/30\n",
            "25/25 - 0s - loss: 0.3895 - accuracy: 0.8562 - val_loss: 0.4947 - val_accuracy: 0.7600\n",
            "Epoch 19/30\n",
            "25/25 - 0s - loss: 0.3722 - accuracy: 0.8600 - val_loss: 0.5074 - val_accuracy: 0.7750\n",
            "Epoch 20/30\n",
            "25/25 - 0s - loss: 0.3618 - accuracy: 0.8562 - val_loss: 0.4901 - val_accuracy: 0.7700\n",
            "Epoch 21/30\n",
            "25/25 - 0s - loss: 0.3507 - accuracy: 0.8637 - val_loss: 0.4802 - val_accuracy: 0.7800\n",
            "Epoch 22/30\n",
            "25/25 - 0s - loss: 0.3391 - accuracy: 0.8675 - val_loss: 0.4798 - val_accuracy: 0.7900\n",
            "Epoch 23/30\n",
            "25/25 - 0s - loss: 0.3287 - accuracy: 0.8737 - val_loss: 0.4838 - val_accuracy: 0.7850\n",
            "Epoch 24/30\n",
            "25/25 - 0s - loss: 0.3200 - accuracy: 0.8800 - val_loss: 0.4916 - val_accuracy: 0.7850\n",
            "Epoch 25/30\n",
            "25/25 - 0s - loss: 0.3140 - accuracy: 0.8813 - val_loss: 0.4818 - val_accuracy: 0.7900\n",
            "Epoch 26/30\n",
            "25/25 - 0s - loss: 0.3062 - accuracy: 0.8825 - val_loss: 0.4804 - val_accuracy: 0.7700\n",
            "Epoch 27/30\n",
            "25/25 - 0s - loss: 0.3016 - accuracy: 0.8850 - val_loss: 0.4876 - val_accuracy: 0.7800\n",
            "Epoch 28/30\n",
            "25/25 - 0s - loss: 0.2969 - accuracy: 0.8838 - val_loss: 0.4870 - val_accuracy: 0.7750\n",
            "Epoch 29/30\n",
            "25/25 - 0s - loss: 0.2891 - accuracy: 0.8900 - val_loss: 0.5024 - val_accuracy: 0.7750\n",
            "Epoch 30/30\n",
            "25/25 - 0s - loss: 0.2878 - accuracy: 0.8863 - val_loss: 0.4999 - val_accuracy: 0.7750\n"
          ]
        }
      ]
    },
    {
      "cell_type": "code",
      "metadata": {
        "id": "QirjmbFvG-q8"
      },
      "source": [
        ""
      ],
      "execution_count": null,
      "outputs": []
    }
  ]
}